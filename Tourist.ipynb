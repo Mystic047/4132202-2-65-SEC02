{
  "nbformat": 4,
  "nbformat_minor": 0,
  "metadata": {
    "colab": {
      "provenance": [],
      "include_colab_link": true
    },
    "kernelspec": {
      "name": "python3",
      "display_name": "Python 3"
    },
    "language_info": {
      "name": "python"
    }
  },
  "cells": [
    {
      "cell_type": "markdown",
      "metadata": {
        "id": "view-in-github",
        "colab_type": "text"
      },
      "source": [
        "<a href=\"https://colab.research.google.com/github/Mystic047/4132202-2-65-SEC02/blob/main/Tourist.ipynb\" target=\"_parent\"><img src=\"https://colab.research.google.com/assets/colab-badge.svg\" alt=\"Open In Colab\"/></a>"
      ]
    },
    {
      "cell_type": "markdown",
      "source": [],
      "metadata": {
        "id": "nO_oMe5cNmNz"
      }
    },
    {
      "cell_type": "code",
      "source": [
        "import pandas as pd\n",
        "from sklearn.preprocessing import LabelEncoder\n",
        "from sklearn.cluster import KMeans\n",
        "import matplotlib.pyplot as plt\n",
        "import seaborn as sns"
      ],
      "metadata": {
        "id": "blczBa3NPItd"
      },
      "execution_count": null,
      "outputs": []
    },
    {
      "cell_type": "code",
      "execution_count": null,
      "metadata": {
        "colab": {
          "base_uri": "https://localhost:8080/"
        },
        "id": "jKA8zsEDNQe7",
        "outputId": "a4a94661-dbbf-4a87-eb2b-4cb832897ee9"
      },
      "outputs": [
        {
          "output_type": "stream",
          "name": "stdout",
          "text": [
            "Mounted at /content/drive\n"
          ]
        }
      ],
      "source": [
        "from google.colab import drive\n",
        "drive.mount('/content/drive')"
      ]
    },
    {
      "cell_type": "markdown",
      "source": [
        "##Get Data"
      ],
      "metadata": {
        "id": "WBd481_FO56a"
      }
    },
    {
      "cell_type": "code",
      "source": [
        "file_path = '/content/drive/MyDrive/Mini Research 053/marathon2.csv'\n",
        "data = pd.read_csv(file_path)"
      ],
      "metadata": {
        "id": "1g506ibEO7tN"
      },
      "execution_count": null,
      "outputs": []
    },
    {
      "cell_type": "code",
      "source": [
        "data.head()"
      ],
      "metadata": {
        "colab": {
          "base_uri": "https://localhost:8080/",
          "height": 310
        },
        "id": "Khk5WsjaPP2Q",
        "outputId": "d2fa5fba-21e1-4373-8eee-ceba87c2e5f3"
      },
      "execution_count": null,
      "outputs": [
        {
          "output_type": "execute_result",
          "data": {
            "text/plain": [
              "   Questionnaire responder  Gender           Age    Province Region  \\\n",
              "0                        1    Male         40-49   บุรีรัมย์     NE   \n",
              "1                        2  Female         40-49  ฉะเชิงเทรา      E   \n",
              "2                        3    Male  13-17, 18-29  ฉะเชิงเทรา      E   \n",
              "3                        4  Female  50-59, 60 Up      กระบี่      W   \n",
              "4                        5    Male  13-17, 18-29     ขอนแก่น     NE   \n",
              "\n",
              "         RunType          Tourist Attraction 1 Tourist Attraction 2  \\\n",
              "0  Half Marathon    อุทยานประวัติศาสตร์พนมรุ้ง                  NaN   \n",
              "1  Half Marathon    อุทยานประวัติศาสตร์พนมรุ้ง                  NaN   \n",
              "2  Half Marathon    อุทยานประวัติศาสตร์พนมรุ้ง                  NaN   \n",
              "3  Half Marathon  พระบรมราชานุสาวรีย์พระบาทสมเ                  NaN   \n",
              "4  Half Marathon    อุทยานประวัติศาสตร์พนมรุ้ง                  NaN   \n",
              "\n",
              "  Tourist Attraction 3  \n",
              "0                  NaN  \n",
              "1                  NaN  \n",
              "2                  NaN  \n",
              "3                  NaN  \n",
              "4                  NaN  "
            ],
            "text/html": [
              "\n",
              "  <div id=\"df-18f062f3-b992-433f-ba87-eec514ede14c\" class=\"colab-df-container\">\n",
              "    <div>\n",
              "<style scoped>\n",
              "    .dataframe tbody tr th:only-of-type {\n",
              "        vertical-align: middle;\n",
              "    }\n",
              "\n",
              "    .dataframe tbody tr th {\n",
              "        vertical-align: top;\n",
              "    }\n",
              "\n",
              "    .dataframe thead th {\n",
              "        text-align: right;\n",
              "    }\n",
              "</style>\n",
              "<table border=\"1\" class=\"dataframe\">\n",
              "  <thead>\n",
              "    <tr style=\"text-align: right;\">\n",
              "      <th></th>\n",
              "      <th>Questionnaire responder</th>\n",
              "      <th>Gender</th>\n",
              "      <th>Age</th>\n",
              "      <th>Province</th>\n",
              "      <th>Region</th>\n",
              "      <th>RunType</th>\n",
              "      <th>Tourist Attraction 1</th>\n",
              "      <th>Tourist Attraction 2</th>\n",
              "      <th>Tourist Attraction 3</th>\n",
              "    </tr>\n",
              "  </thead>\n",
              "  <tbody>\n",
              "    <tr>\n",
              "      <th>0</th>\n",
              "      <td>1</td>\n",
              "      <td>Male</td>\n",
              "      <td>40-49</td>\n",
              "      <td>บุรีรัมย์</td>\n",
              "      <td>NE</td>\n",
              "      <td>Half Marathon</td>\n",
              "      <td>อุทยานประวัติศาสตร์พนมรุ้ง</td>\n",
              "      <td>NaN</td>\n",
              "      <td>NaN</td>\n",
              "    </tr>\n",
              "    <tr>\n",
              "      <th>1</th>\n",
              "      <td>2</td>\n",
              "      <td>Female</td>\n",
              "      <td>40-49</td>\n",
              "      <td>ฉะเชิงเทรา</td>\n",
              "      <td>E</td>\n",
              "      <td>Half Marathon</td>\n",
              "      <td>อุทยานประวัติศาสตร์พนมรุ้ง</td>\n",
              "      <td>NaN</td>\n",
              "      <td>NaN</td>\n",
              "    </tr>\n",
              "    <tr>\n",
              "      <th>2</th>\n",
              "      <td>3</td>\n",
              "      <td>Male</td>\n",
              "      <td>13-17, 18-29</td>\n",
              "      <td>ฉะเชิงเทรา</td>\n",
              "      <td>E</td>\n",
              "      <td>Half Marathon</td>\n",
              "      <td>อุทยานประวัติศาสตร์พนมรุ้ง</td>\n",
              "      <td>NaN</td>\n",
              "      <td>NaN</td>\n",
              "    </tr>\n",
              "    <tr>\n",
              "      <th>3</th>\n",
              "      <td>4</td>\n",
              "      <td>Female</td>\n",
              "      <td>50-59, 60 Up</td>\n",
              "      <td>กระบี่</td>\n",
              "      <td>W</td>\n",
              "      <td>Half Marathon</td>\n",
              "      <td>พระบรมราชานุสาวรีย์พระบาทสมเ</td>\n",
              "      <td>NaN</td>\n",
              "      <td>NaN</td>\n",
              "    </tr>\n",
              "    <tr>\n",
              "      <th>4</th>\n",
              "      <td>5</td>\n",
              "      <td>Male</td>\n",
              "      <td>13-17, 18-29</td>\n",
              "      <td>ขอนแก่น</td>\n",
              "      <td>NE</td>\n",
              "      <td>Half Marathon</td>\n",
              "      <td>อุทยานประวัติศาสตร์พนมรุ้ง</td>\n",
              "      <td>NaN</td>\n",
              "      <td>NaN</td>\n",
              "    </tr>\n",
              "  </tbody>\n",
              "</table>\n",
              "</div>\n",
              "    <div class=\"colab-df-buttons\">\n",
              "\n",
              "  <div class=\"colab-df-container\">\n",
              "    <button class=\"colab-df-convert\" onclick=\"convertToInteractive('df-18f062f3-b992-433f-ba87-eec514ede14c')\"\n",
              "            title=\"Convert this dataframe to an interactive table.\"\n",
              "            style=\"display:none;\">\n",
              "\n",
              "  <svg xmlns=\"http://www.w3.org/2000/svg\" height=\"24px\" viewBox=\"0 -960 960 960\">\n",
              "    <path d=\"M120-120v-720h720v720H120Zm60-500h600v-160H180v160Zm220 220h160v-160H400v160Zm0 220h160v-160H400v160ZM180-400h160v-160H180v160Zm440 0h160v-160H620v160ZM180-180h160v-160H180v160Zm440 0h160v-160H620v160Z\"/>\n",
              "  </svg>\n",
              "    </button>\n",
              "\n",
              "  <style>\n",
              "    .colab-df-container {\n",
              "      display:flex;\n",
              "      gap: 12px;\n",
              "    }\n",
              "\n",
              "    .colab-df-convert {\n",
              "      background-color: #E8F0FE;\n",
              "      border: none;\n",
              "      border-radius: 50%;\n",
              "      cursor: pointer;\n",
              "      display: none;\n",
              "      fill: #1967D2;\n",
              "      height: 32px;\n",
              "      padding: 0 0 0 0;\n",
              "      width: 32px;\n",
              "    }\n",
              "\n",
              "    .colab-df-convert:hover {\n",
              "      background-color: #E2EBFA;\n",
              "      box-shadow: 0px 1px 2px rgba(60, 64, 67, 0.3), 0px 1px 3px 1px rgba(60, 64, 67, 0.15);\n",
              "      fill: #174EA6;\n",
              "    }\n",
              "\n",
              "    .colab-df-buttons div {\n",
              "      margin-bottom: 4px;\n",
              "    }\n",
              "\n",
              "    [theme=dark] .colab-df-convert {\n",
              "      background-color: #3B4455;\n",
              "      fill: #D2E3FC;\n",
              "    }\n",
              "\n",
              "    [theme=dark] .colab-df-convert:hover {\n",
              "      background-color: #434B5C;\n",
              "      box-shadow: 0px 1px 3px 1px rgba(0, 0, 0, 0.15);\n",
              "      filter: drop-shadow(0px 1px 2px rgba(0, 0, 0, 0.3));\n",
              "      fill: #FFFFFF;\n",
              "    }\n",
              "  </style>\n",
              "\n",
              "    <script>\n",
              "      const buttonEl =\n",
              "        document.querySelector('#df-18f062f3-b992-433f-ba87-eec514ede14c button.colab-df-convert');\n",
              "      buttonEl.style.display =\n",
              "        google.colab.kernel.accessAllowed ? 'block' : 'none';\n",
              "\n",
              "      async function convertToInteractive(key) {\n",
              "        const element = document.querySelector('#df-18f062f3-b992-433f-ba87-eec514ede14c');\n",
              "        const dataTable =\n",
              "          await google.colab.kernel.invokeFunction('convertToInteractive',\n",
              "                                                    [key], {});\n",
              "        if (!dataTable) return;\n",
              "\n",
              "        const docLinkHtml = 'Like what you see? Visit the ' +\n",
              "          '<a target=\"_blank\" href=https://colab.research.google.com/notebooks/data_table.ipynb>data table notebook</a>'\n",
              "          + ' to learn more about interactive tables.';\n",
              "        element.innerHTML = '';\n",
              "        dataTable['output_type'] = 'display_data';\n",
              "        await google.colab.output.renderOutput(dataTable, element);\n",
              "        const docLink = document.createElement('div');\n",
              "        docLink.innerHTML = docLinkHtml;\n",
              "        element.appendChild(docLink);\n",
              "      }\n",
              "    </script>\n",
              "  </div>\n",
              "\n",
              "\n",
              "<div id=\"df-4a8c3f3b-c196-4086-8a06-c065401e196d\">\n",
              "  <button class=\"colab-df-quickchart\" onclick=\"quickchart('df-4a8c3f3b-c196-4086-8a06-c065401e196d')\"\n",
              "            title=\"Suggest charts\"\n",
              "            style=\"display:none;\">\n",
              "\n",
              "<svg xmlns=\"http://www.w3.org/2000/svg\" height=\"24px\"viewBox=\"0 0 24 24\"\n",
              "     width=\"24px\">\n",
              "    <g>\n",
              "        <path d=\"M19 3H5c-1.1 0-2 .9-2 2v14c0 1.1.9 2 2 2h14c1.1 0 2-.9 2-2V5c0-1.1-.9-2-2-2zM9 17H7v-7h2v7zm4 0h-2V7h2v10zm4 0h-2v-4h2v4z\"/>\n",
              "    </g>\n",
              "</svg>\n",
              "  </button>\n",
              "\n",
              "<style>\n",
              "  .colab-df-quickchart {\n",
              "      --bg-color: #E8F0FE;\n",
              "      --fill-color: #1967D2;\n",
              "      --hover-bg-color: #E2EBFA;\n",
              "      --hover-fill-color: #174EA6;\n",
              "      --disabled-fill-color: #AAA;\n",
              "      --disabled-bg-color: #DDD;\n",
              "  }\n",
              "\n",
              "  [theme=dark] .colab-df-quickchart {\n",
              "      --bg-color: #3B4455;\n",
              "      --fill-color: #D2E3FC;\n",
              "      --hover-bg-color: #434B5C;\n",
              "      --hover-fill-color: #FFFFFF;\n",
              "      --disabled-bg-color: #3B4455;\n",
              "      --disabled-fill-color: #666;\n",
              "  }\n",
              "\n",
              "  .colab-df-quickchart {\n",
              "    background-color: var(--bg-color);\n",
              "    border: none;\n",
              "    border-radius: 50%;\n",
              "    cursor: pointer;\n",
              "    display: none;\n",
              "    fill: var(--fill-color);\n",
              "    height: 32px;\n",
              "    padding: 0;\n",
              "    width: 32px;\n",
              "  }\n",
              "\n",
              "  .colab-df-quickchart:hover {\n",
              "    background-color: var(--hover-bg-color);\n",
              "    box-shadow: 0 1px 2px rgba(60, 64, 67, 0.3), 0 1px 3px 1px rgba(60, 64, 67, 0.15);\n",
              "    fill: var(--button-hover-fill-color);\n",
              "  }\n",
              "\n",
              "  .colab-df-quickchart-complete:disabled,\n",
              "  .colab-df-quickchart-complete:disabled:hover {\n",
              "    background-color: var(--disabled-bg-color);\n",
              "    fill: var(--disabled-fill-color);\n",
              "    box-shadow: none;\n",
              "  }\n",
              "\n",
              "  .colab-df-spinner {\n",
              "    border: 2px solid var(--fill-color);\n",
              "    border-color: transparent;\n",
              "    border-bottom-color: var(--fill-color);\n",
              "    animation:\n",
              "      spin 1s steps(1) infinite;\n",
              "  }\n",
              "\n",
              "  @keyframes spin {\n",
              "    0% {\n",
              "      border-color: transparent;\n",
              "      border-bottom-color: var(--fill-color);\n",
              "      border-left-color: var(--fill-color);\n",
              "    }\n",
              "    20% {\n",
              "      border-color: transparent;\n",
              "      border-left-color: var(--fill-color);\n",
              "      border-top-color: var(--fill-color);\n",
              "    }\n",
              "    30% {\n",
              "      border-color: transparent;\n",
              "      border-left-color: var(--fill-color);\n",
              "      border-top-color: var(--fill-color);\n",
              "      border-right-color: var(--fill-color);\n",
              "    }\n",
              "    40% {\n",
              "      border-color: transparent;\n",
              "      border-right-color: var(--fill-color);\n",
              "      border-top-color: var(--fill-color);\n",
              "    }\n",
              "    60% {\n",
              "      border-color: transparent;\n",
              "      border-right-color: var(--fill-color);\n",
              "    }\n",
              "    80% {\n",
              "      border-color: transparent;\n",
              "      border-right-color: var(--fill-color);\n",
              "      border-bottom-color: var(--fill-color);\n",
              "    }\n",
              "    90% {\n",
              "      border-color: transparent;\n",
              "      border-bottom-color: var(--fill-color);\n",
              "    }\n",
              "  }\n",
              "</style>\n",
              "\n",
              "  <script>\n",
              "    async function quickchart(key) {\n",
              "      const quickchartButtonEl =\n",
              "        document.querySelector('#' + key + ' button');\n",
              "      quickchartButtonEl.disabled = true;  // To prevent multiple clicks.\n",
              "      quickchartButtonEl.classList.add('colab-df-spinner');\n",
              "      try {\n",
              "        const charts = await google.colab.kernel.invokeFunction(\n",
              "            'suggestCharts', [key], {});\n",
              "      } catch (error) {\n",
              "        console.error('Error during call to suggestCharts:', error);\n",
              "      }\n",
              "      quickchartButtonEl.classList.remove('colab-df-spinner');\n",
              "      quickchartButtonEl.classList.add('colab-df-quickchart-complete');\n",
              "    }\n",
              "    (() => {\n",
              "      let quickchartButtonEl =\n",
              "        document.querySelector('#df-4a8c3f3b-c196-4086-8a06-c065401e196d button');\n",
              "      quickchartButtonEl.style.display =\n",
              "        google.colab.kernel.accessAllowed ? 'block' : 'none';\n",
              "    })();\n",
              "  </script>\n",
              "</div>\n",
              "\n",
              "    </div>\n",
              "  </div>\n"
            ],
            "application/vnd.google.colaboratory.intrinsic+json": {
              "type": "dataframe",
              "variable_name": "data",
              "summary": "{\n  \"name\": \"data\",\n  \"rows\": 521,\n  \"fields\": [\n    {\n      \"column\": \"Questionnaire responder\",\n      \"properties\": {\n        \"dtype\": \"number\",\n        \"std\": 150,\n        \"min\": 1,\n        \"max\": 521,\n        \"num_unique_values\": 521,\n        \"samples\": [\n          508,\n          94,\n          7\n        ],\n        \"semantic_type\": \"\",\n        \"description\": \"\"\n      }\n    },\n    {\n      \"column\": \"Gender\",\n      \"properties\": {\n        \"dtype\": \"category\",\n        \"num_unique_values\": 3,\n        \"samples\": [\n          \"Male\",\n          \"Female\",\n          \"LGBTQI+\"\n        ],\n        \"semantic_type\": \"\",\n        \"description\": \"\"\n      }\n    },\n    {\n      \"column\": \"Age\",\n      \"properties\": {\n        \"dtype\": \"category\",\n        \"num_unique_values\": 4,\n        \"samples\": [\n          \"13-17, 18-29\",\n          \"30-39\",\n          \"40-49\"\n        ],\n        \"semantic_type\": \"\",\n        \"description\": \"\"\n      }\n    },\n    {\n      \"column\": \"Province\",\n      \"properties\": {\n        \"dtype\": \"category\",\n        \"num_unique_values\": 49,\n        \"samples\": [\n          \"\\u0e0a\\u0e25\\u0e1a\\u0e38\\u0e23\\u0e35\",\n          \"\\u0e40\\u0e1e\\u0e0a\\u0e23\\u0e1a\\u0e38\\u0e23\\u0e35\",\n          \"\\u0e2d\\u0e38\\u0e17\\u0e31\\u0e22\\u0e18\\u0e32\\u0e19\\u0e35\"\n        ],\n        \"semantic_type\": \"\",\n        \"description\": \"\"\n      }\n    },\n    {\n      \"column\": \"Region\",\n      \"properties\": {\n        \"dtype\": \"category\",\n        \"num_unique_values\": 6,\n        \"samples\": [\n          \"NE\",\n          \"E\",\n          \"S\"\n        ],\n        \"semantic_type\": \"\",\n        \"description\": \"\"\n      }\n    },\n    {\n      \"column\": \"RunType\",\n      \"properties\": {\n        \"dtype\": \"category\",\n        \"num_unique_values\": 4,\n        \"samples\": [\n          \"Mini Marathon\",\n          \"Fun Run\",\n          \"Half Marathon\"\n        ],\n        \"semantic_type\": \"\",\n        \"description\": \"\"\n      }\n    },\n    {\n      \"column\": \"Tourist Attraction 1\",\n      \"properties\": {\n        \"dtype\": \"category\",\n        \"num_unique_values\": 7,\n        \"samples\": [\n          \"\\u0e2d\\u0e38\\u0e17\\u0e22\\u0e32\\u0e19\\u0e1b\\u0e23\\u0e30\\u0e27\\u0e31\\u0e15\\u0e34\\u0e28\\u0e32\\u0e2a\\u0e15\\u0e23\\u0e4c\\u0e1e\\u0e19\\u0e21\\u0e23\\u0e38\\u0e49\\u0e07\",\n          \"\\u0e1e\\u0e23\\u0e30\\u0e1a\\u0e23\\u0e21\\u0e23\\u0e32\\u0e0a\\u0e32\\u0e19\\u0e38\\u0e2a\\u0e32\\u0e27\\u0e23\\u0e35\\u0e22\\u0e4c\\u0e1e\\u0e23\\u0e30\\u0e1a\\u0e32\\u0e17\\u0e2a\\u0e21\\u0e40\",\n          \"\\u0e25\\u0e39\\u0e01\\u0e0a\\u0e34\\u0e49\\u0e19\\u0e22\\u0e37\\u0e19\\u0e01\\u0e34\\u0e19\"\n        ],\n        \"semantic_type\": \"\",\n        \"description\": \"\"\n      }\n    },\n    {\n      \"column\": \"Tourist Attraction 2\",\n      \"properties\": {\n        \"dtype\": \"category\",\n        \"num_unique_values\": 7,\n        \"samples\": [\n          \"\\u0e25\\u0e39\\u0e01\\u0e0a\\u0e34\\u0e49\\u0e19\\u0e22\\u0e37\\u0e19\\u0e01\\u0e34\\u0e19\",\n          \"\\u0e1e\\u0e23\\u0e30\\u0e1a\\u0e23\\u0e21\\u0e23\\u0e32\\u0e0a\\u0e32\\u0e19\\u0e38\\u0e2a\\u0e32\\u0e27\\u0e23\\u0e35\\u0e22\\u0e4c\\u0e1e\\u0e23\\u0e30\\u0e1a\\u0e32\\u0e17\\u0e2a\\u0e21\\u0e40\",\n          \"\\u0e44\\u0e21\\u0e48\\u0e21\\u0e35\\u0e41\\u0e1c\\u0e19\\u0e08\\u0e30\\u0e44\\u0e1b\\u0e40\\u0e17\\u0e35\\u0e48\\u0e22\\u0e27\\u0e17\\u0e35\\u0e48\\u0e44\\u0e2b\\u0e19\"\n        ],\n        \"semantic_type\": \"\",\n        \"description\": \"\"\n      }\n    },\n    {\n      \"column\": \"Tourist Attraction 3\",\n      \"properties\": {\n        \"dtype\": \"category\",\n        \"num_unique_values\": 7,\n        \"samples\": [\n          \"\\u0e44\\u0e21\\u0e48\\u0e21\\u0e35\\u0e41\\u0e1c\\u0e19\\u0e08\\u0e30\\u0e44\\u0e1b\\u0e40\\u0e17\\u0e35\\u0e48\\u0e22\\u0e27\\u0e17\\u0e35\\u0e48\\u0e44\\u0e2b\\u0e19\",\n          \"\\u0e2a\\u0e19\\u0e32\\u0e21\\u0e0a\\u0e49\\u0e32\\u0e07\\u0e2d\\u0e32\\u0e23\\u0e35\\u0e19\\u0e32 \\u0e2a\\u0e19\\u0e32\\u0e21\\u0e0a\\u0e49\\u0e32\\u0e07 \\u0e2d\\u0e34\\u0e19\\u0e40\\u0e15\\u0e2d\\u0e23\\u0e4c\\u0e40\\u0e19\\u0e0a\\u0e31\\u0e48\\u0e19\\u0e41\\u0e19\\u0e25\\u0e40\\u0e0b\\u0e2d\\u0e23\\u0e4c\\u0e01\\u0e34\\u0e15\",\n          \"other\"\n        ],\n        \"semantic_type\": \"\",\n        \"description\": \"\"\n      }\n    }\n  ]\n}"
            }
          },
          "metadata": {},
          "execution_count": 26
        }
      ]
    },
    {
      "cell_type": "code",
      "source": [
        "data.info()"
      ],
      "metadata": {
        "colab": {
          "base_uri": "https://localhost:8080/"
        },
        "id": "pQQsnJ2iPQ1U",
        "outputId": "470e107d-f68b-4506-b60c-7c0401d3df0e"
      },
      "execution_count": null,
      "outputs": [
        {
          "output_type": "stream",
          "name": "stdout",
          "text": [
            "<class 'pandas.core.frame.DataFrame'>\n",
            "RangeIndex: 521 entries, 0 to 520\n",
            "Data columns (total 9 columns):\n",
            " #   Column                   Non-Null Count  Dtype \n",
            "---  ------                   --------------  ----- \n",
            " 0   Questionnaire responder  521 non-null    int64 \n",
            " 1   Gender                   521 non-null    object\n",
            " 2   Age                      521 non-null    object\n",
            " 3   Province                 521 non-null    object\n",
            " 4   Region                   521 non-null    object\n",
            " 5   RunType                  521 non-null    object\n",
            " 6   Tourist Attraction 1     521 non-null    object\n",
            " 7   Tourist Attraction 2     222 non-null    object\n",
            " 8   Tourist Attraction 3     118 non-null    object\n",
            "dtypes: int64(1), object(8)\n",
            "memory usage: 36.8+ KB\n"
          ]
        }
      ]
    },
    {
      "cell_type": "markdown",
      "source": [
        "##เช็คความครบถ้วนของข้อมูล"
      ],
      "metadata": {
        "id": "JDi9gmlpPuPF"
      }
    },
    {
      "cell_type": "code",
      "source": [
        "data.isnull().sum()"
      ],
      "metadata": {
        "colab": {
          "base_uri": "https://localhost:8080/",
          "height": 366
        },
        "id": "5PZNHIcdPStk",
        "outputId": "5972caa3-3b82-4203-e9b1-225b78a51261"
      },
      "execution_count": null,
      "outputs": [
        {
          "output_type": "execute_result",
          "data": {
            "text/plain": [
              "Questionnaire responder      0\n",
              "Gender                       0\n",
              "Age                          0\n",
              "Province                     0\n",
              "Region                       0\n",
              "RunType                      0\n",
              "Tourist Attraction 1         0\n",
              "Tourist Attraction 2       299\n",
              "Tourist Attraction 3       403\n",
              "dtype: int64"
            ],
            "text/html": [
              "<table border=\"1\" class=\"dataframe\">\n",
              "  <thead>\n",
              "    <tr style=\"text-align: right;\">\n",
              "      <th></th>\n",
              "      <th>0</th>\n",
              "    </tr>\n",
              "  </thead>\n",
              "  <tbody>\n",
              "    <tr>\n",
              "      <th>Questionnaire responder</th>\n",
              "      <td>0</td>\n",
              "    </tr>\n",
              "    <tr>\n",
              "      <th>Gender</th>\n",
              "      <td>0</td>\n",
              "    </tr>\n",
              "    <tr>\n",
              "      <th>Age</th>\n",
              "      <td>0</td>\n",
              "    </tr>\n",
              "    <tr>\n",
              "      <th>Province</th>\n",
              "      <td>0</td>\n",
              "    </tr>\n",
              "    <tr>\n",
              "      <th>Region</th>\n",
              "      <td>0</td>\n",
              "    </tr>\n",
              "    <tr>\n",
              "      <th>RunType</th>\n",
              "      <td>0</td>\n",
              "    </tr>\n",
              "    <tr>\n",
              "      <th>Tourist Attraction 1</th>\n",
              "      <td>0</td>\n",
              "    </tr>\n",
              "    <tr>\n",
              "      <th>Tourist Attraction 2</th>\n",
              "      <td>299</td>\n",
              "    </tr>\n",
              "    <tr>\n",
              "      <th>Tourist Attraction 3</th>\n",
              "      <td>403</td>\n",
              "    </tr>\n",
              "  </tbody>\n",
              "</table><br><label><b>dtype:</b> int64</label>"
            ]
          },
          "metadata": {},
          "execution_count": 28
        }
      ]
    },
    {
      "cell_type": "code",
      "source": [
        "data.isnull().sum().sum()"
      ],
      "metadata": {
        "colab": {
          "base_uri": "https://localhost:8080/"
        },
        "id": "TVfK7pZpPmr1",
        "outputId": "18c652bf-21bd-448f-ca63-c7d3fe749a07"
      },
      "execution_count": null,
      "outputs": [
        {
          "output_type": "execute_result",
          "data": {
            "text/plain": [
              "702"
            ]
          },
          "metadata": {},
          "execution_count": 8
        }
      ]
    },
    {
      "cell_type": "markdown",
      "source": [
        "#ลองรวมข้อมูล"
      ],
      "metadata": {
        "id": "45dMA-LWQMZa"
      }
    },
    {
      "cell_type": "code",
      "source": [
        "# ลบคอลัมน์เดิม\n",
        "data = data.drop(['Tourist Attraction 2', 'Tourist Attraction 3'], axis=1)"
      ],
      "metadata": {
        "id": "x8TYKxu3P0Fv"
      },
      "execution_count": null,
      "outputs": []
    },
    {
      "cell_type": "code",
      "source": [
        "data.info()"
      ],
      "metadata": {
        "colab": {
          "base_uri": "https://localhost:8080/"
        },
        "id": "8vFzbHgRQP4L",
        "outputId": "e031e4da-1160-4fa8-91cf-e393a977b6d8"
      },
      "execution_count": null,
      "outputs": [
        {
          "output_type": "stream",
          "name": "stdout",
          "text": [
            "<class 'pandas.core.frame.DataFrame'>\n",
            "RangeIndex: 521 entries, 0 to 520\n",
            "Data columns (total 7 columns):\n",
            " #   Column                   Non-Null Count  Dtype \n",
            "---  ------                   --------------  ----- \n",
            " 0   Questionnaire responder  521 non-null    int64 \n",
            " 1   Gender                   521 non-null    object\n",
            " 2   Age                      521 non-null    object\n",
            " 3   Province                 521 non-null    object\n",
            " 4   Region                   521 non-null    object\n",
            " 5   RunType                  521 non-null    object\n",
            " 6   Tourist Attraction 1     521 non-null    object\n",
            "dtypes: int64(1), object(6)\n",
            "memory usage: 28.6+ KB\n"
          ]
        }
      ]
    }
  ]
}